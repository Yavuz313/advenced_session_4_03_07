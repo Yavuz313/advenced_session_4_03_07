{
 "cells": [
  {
   "cell_type": "markdown",
   "metadata": {},
   "source": [
    "Kullanıcıdan 1 ile 10 arasında bir sayı isteyin ve sayının çarpım tablosunu oluşturun.\n",
    "Girilen sayı 4 olsun.\n",
    "4 x 0 = 0\n",
    "4 x 1 = 4\n",
    "4 x 2 = 8\n",
    ".\n",
    ".\n",
    ".\n",
    "4 x 10 = 40\n",
    "Şeklinde çıktı almak istiyoruz."
   ]
  },
  {
   "cell_type": "code",
   "execution_count": 1,
   "metadata": {},
   "outputs": [
    {
     "name": "stdout",
     "output_type": "stream",
     "text": [
      "8 x 0  = 0\n",
      "8 x 1  = 8\n",
      "8 x 2  = 16\n",
      "8 x 3  = 24\n",
      "8 x 4  = 32\n",
      "8 x 5  = 40\n",
      "8 x 6  = 48\n",
      "8 x 7  = 56\n",
      "8 x 8  = 64\n",
      "8 x 9  = 72\n",
      "8 x 10 = 80\n"
     ]
    }
   ],
   "source": [
    "# COZUM 1 \n",
    "\n",
    "sayi = int(input(\"Lutfen bir sayi girin. 1 ile 10 arasinda\"))\n",
    "\n",
    "for i in range(0,11):\n",
    "    \n",
    "    print(f\"{sayi} x {i:<2} = {sayi*i}\")"
   ]
  },
  {
   "cell_type": "code",
   "execution_count": null,
   "metadata": {},
   "outputs": [],
   "source": [
    "# COZUM 2 \n",
    "\n",
    "sayi = input(\"Lutfen bir sayi girin. 1 ile 10 arasinda\")\n",
    "\n",
    "if sayi.isnumeric(): # numeric deger girip girmedigini kontrol eder\n",
    "    \n",
    "    for i in range(0,11):\n",
    "    \n",
    "        print(f\"{int(sayi)} x {i:<2} = {int(sayi)*i}\")\n",
    "\n",
    "else:\n",
    "    print(\"Girdiginiz deger numeric degil\")"
   ]
  },
  {
   "cell_type": "code",
   "execution_count": 5,
   "metadata": {},
   "outputs": [
    {
     "name": "stdout",
     "output_type": "stream",
     "text": [
      "Girdiginiz sayi 1 ile 10 arasinda degil\n"
     ]
    }
   ],
   "source": [
    "# COZUM 3\n",
    "\n",
    "sayi = input(\"Lutfen bir sayi girin. 1 ile 10 arasinda\")\n",
    "\n",
    "if sayi.isnumeric(): \n",
    "\n",
    "    if 1 <= int(sayi) <=10:\n",
    "        for i in range(0,11):\n",
    "            print(f\"{int(sayi)} x {i:<2} = {int(sayi)*i}\")\n",
    "            \n",
    "    else:\n",
    "        print(\"Girdiginiz sayi 1 ile 10 arasinda degil\")\n",
    "    \n",
    "else:\n",
    "    print(\"Girdiginiz deger numeric degil\")"
   ]
  },
  {
   "cell_type": "markdown",
   "metadata": {},
   "source": [
    "## enumerate()"
   ]
  },
  {
   "cell_type": "code",
   "execution_count": 6,
   "metadata": {},
   "outputs": [],
   "source": [
    "name = [\"Hamdi\", \"Hakan\", \"Fatih\"]"
   ]
  },
  {
   "cell_type": "code",
   "execution_count": 7,
   "metadata": {},
   "outputs": [
    {
     "data": {
      "text/plain": [
       "<enumerate at 0x27d55fa3560>"
      ]
     },
     "execution_count": 7,
     "metadata": {},
     "output_type": "execute_result"
    }
   ],
   "source": [
    "enumerate(name)"
   ]
  },
  {
   "cell_type": "code",
   "execution_count": 8,
   "metadata": {},
   "outputs": [
    {
     "data": {
      "text/plain": [
       "[(0, 'Hamdi'), (1, 'Hakan'), (2, 'Fatih')]"
      ]
     },
     "execution_count": 8,
     "metadata": {},
     "output_type": "execute_result"
    }
   ],
   "source": [
    "list(enumerate(name))"
   ]
  },
  {
   "cell_type": "markdown",
   "metadata": {},
   "source": [
    "number_list = [48, 10, 11, 21, 36, 5, 6, 52, 28, 29,\n",
    "       53, 54, 45, 19, 20, 47, 55, 39, 41, 7,\n",
    "       9, 17, 26, 27, 42, 22, 37, 51, 46, 18,\n",
    "       44, 30, 34, 13, 15, 35, 33, 16, 50, 24]\n",
    "Listenin min ve max değerleri arasındaki kayıp sayıları bulun"
   ]
  },
  {
   "cell_type": "code",
   "execution_count": 23,
   "metadata": {},
   "outputs": [
    {
     "name": "stdout",
     "output_type": "stream",
     "text": [
      "Minimum Değer: 5\n",
      "Maksimum Değer: 55\n",
      "Aradaki eksik sayılar: [32, 38, 8, 40, 43, 12, 14, 49, 23, 25, 31]\n",
      "duzenli liste: [5, 6, 7, 9, 10, 11, 13, 15, 16, 17, 18, 19, 20, 21, 22, 24, 26, 27, 28, 29, 30, 33, 34, 35, 36, 37, 39, 41, 42, 44, 45, 46, 47, 48, 50, 51, 52, 53, 54, 55]\n"
     ]
    }
   ],
   "source": [
    "# Cozum - 1\n",
    "\n",
    "number_list = [48, 10, 11, 21, 36, 5, 6, 52, 28, 29,\n",
    "       53, 54, 45, 19, 20, 47, 55, 39, 41, 7,\n",
    "       9, 17, 26, 27, 42, 22, 37, 51, 46, 18,\n",
    "       44, 30, 34, 13, 15, 35, 33, 16, 50, 24]\n",
    "\n",
    "\n",
    "min_value = min(number_list)\n",
    "max_value = max(number_list)\n",
    "\n",
    "referans_liste = list(range(min_value, max_value + 1))\n",
    "\n",
    "kayip_sayilar = list(set(referans_liste) - set(number_list))\n",
    "\n",
    "liste_duzenli = sorted(number_list)\n",
    "\n",
    "print(\"Minimum Değer:\", min_value)\n",
    "print(\"Maksimum Değer:\", max_value)\n",
    "print(\"Aradaki eksik sayılar:\", kayip_sayilar)\n",
    "print(\"duzenli liste:\", liste_duzenli)"
   ]
  },
  {
   "cell_type": "code",
   "execution_count": 25,
   "metadata": {},
   "outputs": [
    {
     "name": "stdout",
     "output_type": "stream",
     "text": [
      "[8, 12, 14, 23, 25, 31, 32, 38, 40, 43, 49]\n"
     ]
    }
   ],
   "source": [
    "# çözüm - 2\n",
    "number_list = [48, 10, 11, 21, 36, 5, 6, 52, 28, 29,\n",
    "       53, 54, 45, 19, 20, 47, 55, 39, 41, 7,\n",
    "       9, 17, 26, 27, 42, 22, 37, 51, 46, 18,\n",
    "       44, 30, 34, 13, 15, 35, 33, 16, 50, 24]\n",
    "\n",
    "min_değer = min(number_list)\n",
    "max_değer = max(number_list)\n",
    "\n",
    "tam_liste = list(range(min_değer, max_değer + 1))\n",
    "\n",
    "kayıp_sayılar = []\n",
    "\n",
    "for i in tam_liste:\n",
    "\n",
    "    if i not in number_list:\n",
    "        kayıp_sayılar.append(i)\n",
    "\n",
    "print(kayıp_sayılar)"
   ]
  },
  {
   "cell_type": "code",
   "execution_count": 24,
   "metadata": {},
   "outputs": [
    {
     "data": {
      "text/plain": [
       "{8, 12, 14, 23, 25, 31, 32, 38, 40, 43, 49}"
      ]
     },
     "execution_count": 24,
     "metadata": {},
     "output_type": "execute_result"
    }
   ],
   "source": [
    "# cozum 3\n",
    "\n",
    "set(range(min(number_list), max(number_list) + 1)) - set(number_list)"
   ]
  },
  {
   "cell_type": "markdown",
   "metadata": {},
   "source": [
    "# List Comprehension"
   ]
  },
  {
   "cell_type": "code",
   "execution_count": 31,
   "metadata": {},
   "outputs": [
    {
     "data": {
      "text/plain": [
       "[1, 4, 9, 16, 25]"
      ]
     },
     "execution_count": 31,
     "metadata": {},
     "output_type": "execute_result"
    }
   ],
   "source": [
    "liste_1 = [1,2,3,4,5]\n",
    "\n",
    "sonuc_listesi = []\n",
    "\n",
    "for i in liste_1:\n",
    "    sonuc_listesi.append(i ** 2)\n",
    "    \n",
    "sonuc_listesi"
   ]
  },
  {
   "cell_type": "code",
   "execution_count": 32,
   "metadata": {},
   "outputs": [
    {
     "data": {
      "text/plain": [
       "[1, 4, 9, 16, 25]"
      ]
     },
     "execution_count": 32,
     "metadata": {},
     "output_type": "execute_result"
    }
   ],
   "source": [
    "[ i ** 2 for i in liste_1 ]"
   ]
  },
  {
   "cell_type": "code",
   "execution_count": 37,
   "metadata": {},
   "outputs": [
    {
     "data": {
      "text/plain": [
       "[1, 15, 5, 89, 45, 71, 45, 95, 61]"
      ]
     },
     "execution_count": 37,
     "metadata": {},
     "output_type": "execute_result"
    }
   ],
   "source": [
    "sayilar_listesi = [1, 15, 2, 36, 5, 89, 45, 62, 52, 71, 30, 56, 45, 95, 61, 48]\n",
    "\n",
    "tek_sayilar = []\n",
    "\n",
    "for i in sayilar_listesi:\n",
    "    if i % 2 == 1:\n",
    "        tek_sayilar.append(i)\n",
    "        \n",
    "tek_sayilar"
   ]
  },
  {
   "cell_type": "code",
   "execution_count": 35,
   "metadata": {},
   "outputs": [
    {
     "name": "stdout",
     "output_type": "stream",
     "text": [
      "Tek sayılar: [1, 15, 5, 89, 45, 71, 45, 95, 61]\n"
     ]
    }
   ],
   "source": [
    "sayilar_listesi = [1, 15, 2, 36, 5, 89, 45, 62, 52, 71, 30, 56, 45, 95, 61, 48]\n",
    "\n",
    "tek_sayilar = [i for i in sayilar_listesi if i % 2 == 1]\n",
    "\n",
    "print(\"Tek sayılar:\", tek_sayilar)\n"
   ]
  },
  {
   "cell_type": "markdown",
   "metadata": {},
   "source": [
    "## for + if"
   ]
  },
  {
   "cell_type": "code",
   "execution_count": 39,
   "metadata": {},
   "outputs": [
    {
     "data": {
      "text/plain": [
       "[1, 15, 5, 89, 45, 71, 45, 95, 61]"
      ]
     },
     "execution_count": 39,
     "metadata": {},
     "output_type": "execute_result"
    }
   ],
   "source": [
    "[i for i in sayilar_listesi if i % 2 == 1]"
   ]
  },
  {
   "cell_type": "code",
   "execution_count": 40,
   "metadata": {},
   "outputs": [
    {
     "data": {
      "text/plain": [
       "[2, 36, 62, 52, 30, 56, 48]"
      ]
     },
     "execution_count": 40,
     "metadata": {},
     "output_type": "execute_result"
    }
   ],
   "source": [
    "[i for i in sayilar_listesi if i % 2 == 0]"
   ]
  },
  {
   "cell_type": "code",
   "execution_count": 41,
   "metadata": {},
   "outputs": [],
   "source": [
    "liste_2 = [\"renault\", \"fiat\", \"ford\"]"
   ]
  },
  {
   "cell_type": "code",
   "execution_count": 43,
   "metadata": {},
   "outputs": [
    {
     "data": {
      "text/plain": [
       "['fiat', 'ford']"
      ]
     },
     "execution_count": 43,
     "metadata": {},
     "output_type": "execute_result"
    }
   ],
   "source": [
    "sonuc = []\n",
    "\n",
    "for i in liste_2:\n",
    "    if i[0] == \"f\":\n",
    "        sonuc.append(i)\n",
    "sonuc"
   ]
  },
  {
   "cell_type": "code",
   "execution_count": 44,
   "metadata": {},
   "outputs": [
    {
     "data": {
      "text/plain": [
       "['fiat', 'ford']"
      ]
     },
     "execution_count": 44,
     "metadata": {},
     "output_type": "execute_result"
    }
   ],
   "source": [
    "[  i  for i in liste_2  if i[0] == \"f\"   ]"
   ]
  },
  {
   "cell_type": "code",
   "execution_count": 45,
   "metadata": {},
   "outputs": [
    {
     "data": {
      "text/plain": [
       "['fiat', 'ford']"
      ]
     },
     "execution_count": 45,
     "metadata": {},
     "output_type": "execute_result"
    }
   ],
   "source": [
    "[  i  for i in liste_2  if i.startswith(\"f\")   ]"
   ]
  },
  {
   "cell_type": "code",
   "execution_count": 46,
   "metadata": {},
   "outputs": [
    {
     "data": {
      "text/plain": [
       "[1, 5]"
      ]
     },
     "execution_count": 46,
     "metadata": {},
     "output_type": "execute_result"
    }
   ],
   "source": [
    "[i for i in sayilar_listesi if i<10  if i%2 == 1]"
   ]
  },
  {
   "cell_type": "markdown",
   "metadata": {},
   "source": [
    "## for + if + else"
   ]
  },
  {
   "cell_type": "code",
   "execution_count": 4,
   "metadata": {},
   "outputs": [],
   "source": [
    "sayilar_listesi = [1, 15, 2, 36, 5, 89, 45, 62, 52, 71, 30, 56, 45, 95, 61, 48] # cift olanlar yerinde kalsin tek olanlarin karesini yazdir"
   ]
  },
  {
   "cell_type": "code",
   "execution_count": 5,
   "metadata": {},
   "outputs": [
    {
     "data": {
      "text/plain": [
       "[1, 225, 2, 36, 25, 7921, 2025, 62, 52, 5041, 30, 56, 2025, 9025, 3721, 48]"
      ]
     },
     "execution_count": 5,
     "metadata": {},
     "output_type": "execute_result"
    }
   ],
   "source": [
    "result = []\n",
    "\n",
    "\n",
    "for i in sayilar_listesi:\n",
    "    \n",
    "    if i % 2 == 0:\n",
    "        result.append(i)\n",
    "    else:\n",
    "        result.append(i ** 2)\n",
    "        \n",
    "result"
   ]
  },
  {
   "cell_type": "code",
   "execution_count": 6,
   "metadata": {},
   "outputs": [
    {
     "data": {
      "text/plain": [
       "[1, 225, 2, 36, 25, 7921, 2025, 62, 52, 5041, 30, 56, 2025, 9025, 3721, 48]"
      ]
     },
     "execution_count": 6,
     "metadata": {},
     "output_type": "execute_result"
    }
   ],
   "source": [
    "[  i   if i % 2 == 0  else  i ** 2        for i in sayilar_listesi  ] \n",
    "# for: if ve else ile beraber kullanilicaksa en saga yazilir\n",
    "# # if in islem kismi if in soluna, ekse in islem kismi else in sagina yazilir "
   ]
  },
  {
   "cell_type": "code",
   "execution_count": 7,
   "metadata": {},
   "outputs": [
    {
     "name": "stdout",
     "output_type": "stream",
     "text": [
      "a\n",
      "b\n",
      "c\n",
      "d\n",
      "aa\n",
      "bb\n",
      "cc\n",
      "dd\n",
      "aaa\n",
      "bbb\n",
      "ccc\n",
      "ddd\n"
     ]
    }
   ],
   "source": [
    "for i in (1,2,3):\n",
    "    \n",
    "    for j in (\"a\",\"b\",\"c\",\"d\"):\n",
    "        print(i * j)"
   ]
  },
  {
   "cell_type": "markdown",
   "metadata": {},
   "source": [
    "[ i*j  for i in (1,2,3) for j in (\"a\",\"b\",\"c\",\"d\")]"
   ]
  },
  {
   "cell_type": "markdown",
   "metadata": {},
   "source": [
    "armstrong number bulan kodu yazin"
   ]
  },
  {
   "cell_type": "code",
   "execution_count": 15,
   "metadata": {},
   "outputs": [
    {
     "name": "stdout",
     "output_type": "stream",
     "text": [
      "girilen sayi:407 armstrong bir sayidir\n"
     ]
    }
   ],
   "source": [
    "sayi = input(\"Lutfen bir sayi giriniz\")\n",
    "\n",
    "uzunluk = len(sayi)\n",
    "    \n",
    "toplam = 0    \n",
    "\n",
    "for i in sayi:\n",
    "    toplam += int(i) ** uzunluk\n",
    "    \n",
    "if int(sayi) == toplam:\n",
    "    print(f\"girilen sayi:{sayi} armstrong bir sayidir\")\n",
    "else:\n",
    "    print(f\"girilen sayi:{sayi} armstrong bir sayi degildi\")\n",
    "\n"
   ]
  },
  {
   "cell_type": "markdown",
   "metadata": {},
   "source": [
    "odev 1 - armstrong sorusunu lst comprehesion la cozun"
   ]
  },
  {
   "cell_type": "markdown",
   "metadata": {},
   "source": [
    "ödev - 2\n",
    "\n",
    "Bir markete gittiniz. Markette her ürünün bir kod numarası var. 1 : Elma 2 : Portakal 3 : Çilek 4 : Yumurta 5 : Havuç 6 : Armut ... vs. şeklinde. Kullanıcıya almak istediği ürünü sorunuz ve kod numarası ile seçim yaptırınız. Çıkış için \"q\" opsiyonunu sununuz. Kullanıcının her ürün seçimi sonrası \" .... elma sepete eklendi\" gibi bir dönüt veriniz. Kullanıcı ürün almaya devam ettikçe ürünleri bir listede toplayınız, almaktan vazgeçtiği durumda teşekkür edip, aldığı toplam ürünleri çıktı veren bir kod yazınız. Çıktı: Teşekkür Ederiz... Sepetinizde Bulunan Ürünler: elma, armut, yumurta ... vs.\n",
    "\n",
    "çıktı:\n",
    "\n",
    "Marketimize Hoş geldiniz\n",
    "Ürünlerimiz:\n",
    "1 : \"Elma\",\n",
    "2 : \"Portakal\",\n",
    "3 : \"Çilek\", \n",
    "4 : \"Yumurta\",\n",
    "5 : \"Havuç\",\n",
    "6 : \"Armut\"     \n",
    "      \n",
    "Sepete Portakal eklendi\n",
    "Sepete Yumurta eklendi\n",
    "Sepete Armut eklendi\n",
    "Sepete Armut eklendi\n",
    "Bizi tercih ettiğiniz için teşekkürler\n",
    "Almış olduğunuz ürünler: ['Portakal', 'Yumurta', 'Armut', 'Armut']"
   ]
  }
 ],
 "metadata": {
  "kernelspec": {
   "display_name": "Python 3",
   "language": "python",
   "name": "python3"
  },
  "language_info": {
   "codemirror_mode": {
    "name": "ipython",
    "version": 3
   },
   "file_extension": ".py",
   "mimetype": "text/x-python",
   "name": "python",
   "nbconvert_exporter": "python",
   "pygments_lexer": "ipython3",
   "version": "3.12.3"
  }
 },
 "nbformat": 4,
 "nbformat_minor": 2
}
